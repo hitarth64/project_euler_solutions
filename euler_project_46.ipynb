{
  "nbformat": 4,
  "nbformat_minor": 0,
  "metadata": {
    "colab": {
      "name": "euler_project_46",
      "provenance": []
    },
    "kernelspec": {
      "name": "python3",
      "display_name": "Python 3"
    }
  },
  "cells": [
    {
      "cell_type": "code",
      "metadata": {
        "id": "LmIpHfi07gOS",
        "colab_type": "code",
        "colab": {}
      },
      "source": [
        "import numpy as np\n",
        "import pandas as pd"
      ],
      "execution_count": 0,
      "outputs": []
    },
    {
      "cell_type": "code",
      "metadata": {
        "id": "MuUKGaas7lCy",
        "colab_type": "code",
        "colab": {}
      },
      "source": [
        "# It was proposed by Christian Goldbach that every odd composite number can be written as the sum of a prime and twice a square.\n",
        "# What is the smallest odd composite that cannot be written as the sum of a prime and twice a square?\n",
        "\n",
        "def get_primes(n):\n",
        "    numbers = set(range(n, 1, -1))\n",
        "    primes = []\n",
        "    while numbers:\n",
        "        p = numbers.pop()\n",
        "        primes.append(p)\n",
        "        numbers.difference_update(set(range(p*2, n+1, p)))\n",
        "    return primes\n"
      ],
      "execution_count": 0,
      "outputs": []
    },
    {
      "cell_type": "markdown",
      "metadata": {
        "id": "9haFqmK-Gc6o",
        "colab_type": "text"
      },
      "source": [
        "So, the way to approach is as follows:\n",
        "\n",
        "con is an odd composite number; p is a prime (p $\\leq$ con); k is a positive integer\n",
        "\n",
        "{con} = {p}+{2*$k^2$}\n",
        "\n",
        "=> {con} - {p} = {2*$k^2$}\n",
        "\n",
        "=> {con-p}/2 = $k^2$ \n",
        "\n",
        "Thus (con-p)/2 should be a perfect square!\n",
        "\n",
        "\n"
      ]
    },
    {
      "cell_type": "code",
      "metadata": {
        "id": "KsynYzW4C7A9",
        "colab_type": "code",
        "colab": {
          "base_uri": "https://localhost:8080/",
          "height": 35
        },
        "outputId": "d3ef8372-32ed-4a82-d1bd-b52d33860938"
      },
      "source": [
        "N = 10000\n",
        "primes_list = get_primes(N)\n",
        "primes_list.sort()\n",
        "\n",
        "found = False\n",
        "\n",
        "for i in np.arange(3,N,2):\n",
        "  if found == True:\n",
        "    break\n",
        "\n",
        "  if i not in primes_list:\n",
        "\n",
        "    for j in primes_list:\n",
        "      if j > i:\n",
        "        print(i)\n",
        "        found = True\n",
        "        break\n",
        "      else:\n",
        "        if np.sqrt((i-j)/2.).is_integer():\n",
        "          break\n",
        "\n"
      ],
      "execution_count": 10,
      "outputs": [
        {
          "output_type": "stream",
          "text": [
            "5777\n"
          ],
          "name": "stdout"
        }
      ]
    }
  ]
}